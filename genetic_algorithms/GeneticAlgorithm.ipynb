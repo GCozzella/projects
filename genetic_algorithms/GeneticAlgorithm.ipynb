{
 "cells": [
  {
   "cell_type": "code",
   "execution_count": 1,
   "metadata": {},
   "outputs": [],
   "source": [
    "import random\n",
    "from itertools import permutations\n",
    "\n",
    "import numpy as np\n",
    "import pandas as pd\n",
    "import matplotlib.pyplot as plt\n",
    "\n",
    "from deap import base\n",
    "from deap import tools\n",
    "from deap import creator\n",
    "from deap import algorithms"
   ]
  },
  {
   "cell_type": "markdown",
   "metadata": {},
   "source": [
    "# Algoritmos genéticos"
   ]
  },
  {
   "cell_type": "markdown",
   "metadata": {},
   "source": [
    "- É uma classe de algoritmos usada, em geral, para resolver problemas de otimização cuja solução exata seja computacionalmente muito custosa de encontrar. Assim, a ideia é encontrar uma solução <em>boa</em>, mas não necessariamente <em>ótima</em> (no sentido matemático: a melhor possível).\n",
    "\n",
    "\n",
    "- Existem vários tipos, mas a ideia básica é gerar um monte de soluções tentativas pro problema e combinar aquelas\n",
    "que se mostrem as melhores pra gerar novas soluções que sejam melhores ainda.\n",
    "\n",
    "\n",
    "- O nome vem da inspiração biológica: \"genes\" mais \"adaptados ao ambiente\" (isto é, soluções mais próximas da solução ótima) tendem a se propagar na população, fazendo com que as características mais adaptadas àquele ambiente se tornem dominantes com o passar das gerações.\n",
    "\n",
    "![](https://raw.githubusercontent.com/GCozzella/projects/master/genetic_algorithms/Genes.png)"
   ]
  },
  {
   "cell_type": "markdown",
   "metadata": {},
   "source": [
    "#  Um pouco de teoria sobre"
   ]
  },
  {
   "cell_type": "markdown",
   "metadata": {},
   "source": [
    "Precisamos definir algumas coisas:\n",
    "\n",
    "- Uma função de adequação (<em><b>fitness</b></em>) que esteja relacionada com o que queremos otimizar. \n",
    "    - Por exemplo, $f(x) = x^4+x^3+x^2+7x+2000 \\sin{(x)}$, cujo mínimo global é em $x \\approx -1.57$. \n",
    "    \n",
    "\n",
    "- As características (os <em><b>genes</b></em>) de uma solução proposta (um <em><b>cromossomo</b></em>).\n",
    "    - No caso, a coordenada $x$ da solução (se fossem um problema 2D, os genes seriam as coordenadas $x$ e $y$ e o cromossomo o ponto $(x,y)$).\n",
    "    \n",
    "    \n",
    "- Uma <em><b>população</b></em> desses indivíduos.\n",
    "    - $N$ pontos $x_i$.\n",
    "    \n",
    "    \n",
    "- Uma maneira de <em><b>mutar</b></em> esses indivíduos pra que eles possivelmente se aproximem da solução ótima.\n",
    "    - Por exemplo, adicionar ou subtrair um valor pequeno em $x_i$.\n",
    "    \n",
    "    \n",
    "- Uma maneira de <em><b>selecionar</b></em> esses indivíduos pra que eles se aproximem da solução ótima.\n",
    "    - Por exemplo, escolher $N/2$ valores de $X=\\{x_i\\}$ na população tais que o valor nesse conjunto, $f(X)$, seja o menor possível.\n",
    "    \n",
    "    \n",
    "- Uma maneira de <em><b>gerar novos indivíduos</b></em> pra população a partir dos melhores da geração anterior.\n",
    "    - Por exemplo, pra cada dois geradores $x_i$ e $x_j$ tomamos duas médias ponderadas, $x_1' = w_1 x_i + w_2 x_j$ e $x_2' = w_2 x_i + w_1 x_j$."
   ]
  },
  {
   "cell_type": "markdown",
   "metadata": {},
   "source": [
    "# DEAP (Distributed Evolutionary Algorithms in Python)"
   ]
  },
  {
   "cell_type": "markdown",
   "metadata": {},
   "source": [
    "Vamos usar o DEAP, que é uma biblioteca do Python especializada em construir algoritmos genéticos.\n",
    "\n",
    "O primeiro passo é traduzir o problema acima pras ferramentas do DEAP. Boa parte do código aqui saiu direto da documentação da biblioteca que vale a pena consultar (https://deap.readthedocs.io/en/master/index.html).\n"
   ]
  },
  {
   "cell_type": "markdown",
   "metadata": {},
   "source": [
    "### Exemplo (1) - Otimizando a função $f(x)$ dada acima."
   ]
  },
  {
   "cell_type": "markdown",
   "metadata": {},
   "source": [
    "Vamos ver o formato da função, o que ajuda a entender a distinção entre solução boa/ótima explicada acima."
   ]
  },
  {
   "cell_type": "code",
   "execution_count": 2,
   "metadata": {},
   "outputs": [
    {
     "data": {
      "image/png": "[encoded data removed]",
      "text/plain": [
       "<Figure size 432x288 with 1 Axes>"
      ]
     },
     "metadata": {
      "needs_background": "light"
     },
     "output_type": "display_data"
    }
   ],
   "source": [
    "x=np.linspace(-10,10,200)\n",
    "y=x**4+x**3+x**2+7*x+10+2000*np.sin(x)\n",
    "\n",
    "plt.plot(x,y)\n",
    "plt.title('$f(x) = x^4 + x^3 + x^2 + 7 x +10 + 2000 \\ \\sin{(x)}$')\n",
    "plt.ylabel('y')\n",
    "plt.xlabel('x')\n",
    "plt.annotate(xy=(-0.8687,-1996),s='min. global')\n",
    "plt.annotate(xy=(5.0912,-1392),s='min. local')\n",
    "plt.show()"
   ]
  },
  {
   "cell_type": "code",
   "execution_count": 3,
   "metadata": {},
   "outputs": [],
   "source": [
    "creator.create(\"FitnessMin\", base.Fitness, weights=(-1.0,)) #Aptidão da solução, problema de minimização\n",
    "creator.create(\"Individual\", list, fitness=creator.FitnessMin)\n",
    "\n",
    "toolbox = base.Toolbox()\n",
    "toolbox.register(\"attr_gauss\", np.random.normal, 100, 1) #Como iniciar o indivíduo\n",
    "\n",
    "toolbox.register(\"individual\", tools.initRepeat, \n",
    "                 creator.Individual, toolbox.attr_gauss, 1) #Gera um número gaussiano\n",
    "\n",
    "toolbox.register(\"population\", tools.initRepeat, \n",
    "                 list, toolbox.individual) #Gera a população \n",
    "\n",
    "def eval_f(individual): \n",
    "    x = individual[0] \n",
    "    f = x**4+x**3+x**2+7*x+10+2000*np.sin(x)\n",
    "    return (f,)\n",
    "\n",
    "def cross_x(child1,child2):\n",
    "    child1[0]=0.3*child1[0]+0.7*child2[0]\n",
    "    child2[0]=0.7*child1[0]+0.3*child2[0]\n",
    "\n",
    "toolbox.register(\"evaluate\", eval_f) #Calcula o fitness\n",
    "toolbox.register(\"mate\", cross_x) #Cruza indivíduos\n",
    "toolbox.register(\"mutate\", tools.mutGaussian, mu=0,sigma=2,indpb=0.05) #Mutação\n",
    "toolbox.register(\"select\", tools.selTournament, tournsize=3) #Seleção\n",
    "\n",
    "#Parâmetros\n",
    "CXPB, MUTPB = 0.6, 0.1 #Taxas de cruzamento e mutação\n",
    "N_GEN = 1000\n",
    "SIZE = 500\n",
    "\n",
    "#Registro\n",
    "stats = tools.Statistics(key=lambda ind: ind.fitness.values) #Pra logar a evolução da população\n",
    "stats.register(\"avg\", np.mean)\n",
    "stats.register(\"std\", np.std)\n",
    "stats.register(\"min\", np.min)\n",
    "stats.register(\"max\", np.max)\n",
    "\n",
    "\n",
    "def genetic_algorithm():\n",
    "    pop, record = toolbox.population(n=SIZE), [] #Inicia a população\n",
    "    \n",
    "    fitnesses = [*map(toolbox.evaluate, pop)] #Calculando o fitness\n",
    "    for ind, fit in zip(pop, fitnesses):\n",
    "        ind.fitness.values = fit\n",
    "\n",
    "    for g in range(N_GEN):\n",
    "\n",
    "        offspring = [*map(toolbox.clone, toolbox.select(pop, len(pop)))] #Gerando a nova população\n",
    "        \n",
    "        for child1, child2 in zip(offspring[::2], offspring[1::2]): #Cruzando 0 com 1, 2 com 3, etc.\n",
    "            if random.random() < CXPB: \n",
    "                toolbox.mate(child1, child2)\n",
    "                del child1.fitness.values, child2.fitness.values\n",
    "\n",
    "        for mutant in offspring: #Mutações\n",
    "            if random.random() < MUTPB:\n",
    "                toolbox.mutate(mutant)\n",
    "                del mutant.fitness.values\n",
    "\n",
    "        invalid_ind = [ind for ind in offspring if not ind.fitness.valid] #Recalculando a adequação com cx e mut.\n",
    "        fitnesses = [*map(toolbox.evaluate, invalid_ind)]\n",
    "        for ind, fit in zip(invalid_ind, fitnesses):\n",
    "            ind.fitness.values = fit\n",
    "            \n",
    "        pop[:]=offspring\n",
    "        \n",
    "        record.append(stats.compile(pop))\n",
    "        \n",
    "    return(pop, record)\n",
    "        \n",
    "pop,record_1=genetic_algorithm()"
   ]
  },
  {
   "cell_type": "code",
   "execution_count": 4,
   "metadata": {},
   "outputs": [
    {
     "data": {
      "text/plain": [
       "<matplotlib.axes._subplots.AxesSubplot at 0x7f5add567d00>"
      ]
     },
     "execution_count": 4,
     "metadata": {},
     "output_type": "execute_result"
    },
    {
     "data": {
      "image/png": "[encoded data removed]",
      "text/plain": [
       "<Figure size 432x288 with 1 Axes>"
      ]
     },
     "metadata": {
      "needs_background": "light"
     },
     "output_type": "display_data"
    }
   ],
   "source": [
    "pd.DataFrame(record_1)['min'].iloc[100:].plot()"
   ]
  },
  {
   "cell_type": "code",
   "execution_count": 5,
   "metadata": {},
   "outputs": [
    {
     "name": "stdout",
     "output_type": "stream",
     "text": [
      "[-1.568698297620915]\n"
     ]
    },
    {
     "data": {
      "text/plain": [
       "(-1996.320340029519,)"
      ]
     },
     "execution_count": 5,
     "metadata": {},
     "output_type": "execute_result"
    }
   ],
   "source": [
    "#Sol. exata\n",
    "#x = -1.5687\n",
    "#f = -1996.3203\n",
    "\n",
    "print(tools.selBest(pop, k=1)[0])\n",
    "\n",
    "eval_f(tools.selBest(pop, k=1)[0])"
   ]
  },
  {
   "cell_type": "markdown",
   "metadata": {},
   "source": [
    "### Exemplo (2) - Otimizando uma função com vínculos."
   ]
  },
  {
   "cell_type": "markdown",
   "metadata": {},
   "source": [
    "Vamos tentar otimizar $f(x,y) = 4x-y$ sujeita aos vínculos:\n",
    "<ul>\n",
    "<item>$7x-2y \\leq 14$</item>\n",
    "    \n",
    "<item>$y \\leq 3$</item>\n",
    "    \n",
    "<item>$ 2x-2y \\leq 3$</item>\n",
    "    \n",
    "<item>$ x,y \\geq 0$</item>\n",
    "</ul>"
   ]
  },
  {
   "cell_type": "code",
   "execution_count": 6,
   "metadata": {},
   "outputs": [
    {
     "name": "stderr",
     "output_type": "stream",
     "text": [
      "/home/gabriel/anaconda3/lib/python3.8/site-packages/deap/creator.py:138: RuntimeWarning: A class named 'Individual' has already been created and it will be overwritten. Consider deleting previous creation of that class or rename it.\n",
      "  warnings.warn(\"A class named '{0}' has already been created and it \"\n"
     ]
    }
   ],
   "source": [
    "creator.create(\"Fitness\", base.Fitness, weights=(1.0,)) #Prox. de maximização agora\n",
    "creator.create(\"Individual\", list, fitness=creator.Fitness)\n",
    "\n",
    "toolbox = base.Toolbox()\n",
    "toolbox.register(\"attr_gauss\", np.random.normal, 100, 1) #Atributo básico do indivíduo\n",
    "toolbox.register(\"individual\", tools.initRepeat, creator.Individual, toolbox.attr_gauss, 2) #Gera um ponto x,y\n",
    "toolbox.register(\"population\", tools.initRepeat, list, toolbox.individual) #Gera a população \n",
    "\n",
    "def eval_f(individual): \n",
    "    x, y = individual[0], individual[1]\n",
    "    f = 4*x-y\n",
    "    return (f,)\n",
    "\n",
    "def feasible(individual): #Verificando os vínculos\n",
    "    x, y = individual[0], individual[1]\n",
    "    \n",
    "    if 7*x-2*y > 14:\n",
    "        return False\n",
    "    elif y > 3:\n",
    "        return False\n",
    "    elif 2*x-2*y > 3:\n",
    "        return False\n",
    "    elif x < 0 or y <0:\n",
    "        return False\n",
    "    return True\n",
    "\n",
    "def distance(individual): #Penalidade\n",
    "    return np.sqrt((individual[0]-4)**2+(individual[1] - 3)**2)\n",
    "\n",
    "def cross_x(child1,child2):\n",
    "    child1[0]=0.3*child1[0]+0.7*child2[0]\n",
    "    child2[0]=0.7*child1[0]+0.3*child2[0]\n",
    "    \n",
    "    child1[1]=0.3*child1[1]+0.7*child2[1]\n",
    "    child2[1]=0.7*child1[1]+0.3*child2[1]\n",
    "    \n",
    "def mutate(mutant):\n",
    "    mutant[0]+=np.random.standard_cauchy()\n",
    "    mutant[1]+=np.random.standard_cauchy()\n",
    "\n",
    "toolbox.register(\"evaluate\", eval_f) \n",
    "toolbox.decorate(\"evaluate\", tools.DeltaPenalty(feasible, 0,distance)) #Penalizando quem não satisfaz os vínculos\n",
    "\n",
    "toolbox.register(\"mate\", cross_x)\n",
    "toolbox.register(\"mutate\", mutate)\n",
    "toolbox.register(\"select\", tools.selTournament, tournsize=3)\n",
    "\n",
    "#Parâmetros\n",
    "CXPB, MUTPB = 0.6, 0.1 #Taxas de cruzamento e mutação\n",
    "N_GEN = 1000\n",
    "SIZE = 500\n",
    "\n",
    "#Registro\n",
    "stats = tools.Statistics(key=lambda ind: ind.fitness.values) #Pra logar a evolução da população\n",
    "stats.register(\"avg\", np.mean)\n",
    "stats.register(\"std\", np.std)\n",
    "stats.register(\"min\", np.min)\n",
    "stats.register(\"max\", np.max)\n",
    "\n",
    "def genetic_algorithm():\n",
    "    pop, record = toolbox.population(n=SIZE), [] #Inicia a população\n",
    "    \n",
    "    fitnesses = [*map(toolbox.evaluate, pop)] #Calculando o fitness\n",
    "    for ind, fit in zip(pop, fitnesses):\n",
    "        ind.fitness.values = fit\n",
    "\n",
    "    for g in range(N_GEN):\n",
    "\n",
    "        offspring = [*map(toolbox.clone, toolbox.select(pop, len(pop)))] #Gerando a nova população\n",
    "        \n",
    "        for child1, child2 in zip(offspring[::2], offspring[1::2]): #Cruzando 0 com 1, 2 com 3, etc.\n",
    "            if random.random() < CXPB: \n",
    "                toolbox.mate(child1, child2)\n",
    "                del child1.fitness.values, child2.fitness.values\n",
    "\n",
    "        for mutant in offspring: #Mutações\n",
    "            if random.random() < MUTPB:\n",
    "                toolbox.mutate(mutant)\n",
    "                del mutant.fitness.values\n",
    "\n",
    "        invalid_ind = [ind for ind in offspring if not ind.fitness.valid] #Recalculando a adequação com cx e mut.\n",
    "        \n",
    "        fitnesses = [*map(toolbox.evaluate, invalid_ind)]\n",
    "        for ind, fit in zip(invalid_ind, fitnesses):\n",
    "            ind.fitness.values = fit\n",
    "            \n",
    "        pop[:]=offspring\n",
    "        \n",
    "        record.append(stats.compile(pop))\n",
    "        \n",
    "    return(pop, record)\n",
    "        \n",
    "pop,record_2=genetic_algorithm()"
   ]
  },
  {
   "cell_type": "code",
   "execution_count": 7,
   "metadata": {},
   "outputs": [
    {
     "data": {
      "text/html": [
       "<div>\n",
       "<style scoped>\n",
       "    .dataframe tbody tr th:only-of-type {\n",
       "        vertical-align: middle;\n",
       "    }\n",
       "\n",
       "    .dataframe tbody tr th {\n",
       "        vertical-align: top;\n",
       "    }\n",
       "\n",
       "    .dataframe thead th {\n",
       "        text-align: right;\n",
       "    }\n",
       "</style>\n",
       "<table border=\"1\" class=\"dataframe\">\n",
       "  <thead>\n",
       "    <tr style=\"text-align: right;\">\n",
       "      <th></th>\n",
       "      <th>avg</th>\n",
       "      <th>std</th>\n",
       "      <th>min</th>\n",
       "      <th>max</th>\n",
       "    </tr>\n",
       "  </thead>\n",
       "  <tbody>\n",
       "    <tr>\n",
       "      <th>0</th>\n",
       "      <td>-135.657945</td>\n",
       "      <td>1.872253</td>\n",
       "      <td>-151.800759</td>\n",
       "      <td>-106.285017</td>\n",
       "    </tr>\n",
       "    <tr>\n",
       "      <th>1</th>\n",
       "      <td>-134.741464</td>\n",
       "      <td>3.842758</td>\n",
       "      <td>-153.417605</td>\n",
       "      <td>-87.385153</td>\n",
       "    </tr>\n",
       "    <tr>\n",
       "      <th>2</th>\n",
       "      <td>-136.448477</td>\n",
       "      <td>68.356210</td>\n",
       "      <td>-1650.651100</td>\n",
       "      <td>-96.820000</td>\n",
       "    </tr>\n",
       "    <tr>\n",
       "      <th>3</th>\n",
       "      <td>-129.571121</td>\n",
       "      <td>7.364260</td>\n",
       "      <td>-151.807608</td>\n",
       "      <td>-85.006197</td>\n",
       "    </tr>\n",
       "    <tr>\n",
       "      <th>4</th>\n",
       "      <td>-123.531822</td>\n",
       "      <td>9.743026</td>\n",
       "      <td>-143.525758</td>\n",
       "      <td>-37.981881</td>\n",
       "    </tr>\n",
       "    <tr>\n",
       "      <th>...</th>\n",
       "      <td>...</td>\n",
       "      <td>...</td>\n",
       "      <td>...</td>\n",
       "      <td>...</td>\n",
       "    </tr>\n",
       "    <tr>\n",
       "      <th>995</th>\n",
       "      <td>3.968053</td>\n",
       "      <td>53.190129</td>\n",
       "      <td>-1111.727934</td>\n",
       "      <td>8.408709</td>\n",
       "    </tr>\n",
       "    <tr>\n",
       "      <th>996</th>\n",
       "      <td>7.004592</td>\n",
       "      <td>10.040744</td>\n",
       "      <td>-203.445819</td>\n",
       "      <td>8.408709</td>\n",
       "    </tr>\n",
       "    <tr>\n",
       "      <th>997</th>\n",
       "      <td>6.974136</td>\n",
       "      <td>5.544768</td>\n",
       "      <td>-66.513022</td>\n",
       "      <td>8.408709</td>\n",
       "    </tr>\n",
       "    <tr>\n",
       "      <th>998</th>\n",
       "      <td>6.955425</td>\n",
       "      <td>4.358910</td>\n",
       "      <td>-22.174026</td>\n",
       "      <td>8.408709</td>\n",
       "    </tr>\n",
       "    <tr>\n",
       "      <th>999</th>\n",
       "      <td>5.988334</td>\n",
       "      <td>19.180254</td>\n",
       "      <td>-341.636736</td>\n",
       "      <td>8.408709</td>\n",
       "    </tr>\n",
       "  </tbody>\n",
       "</table>\n",
       "<p>1000 rows × 4 columns</p>\n",
       "</div>"
      ],
      "text/plain": [
       "            avg        std          min         max\n",
       "0   -135.657945   1.872253  -151.800759 -106.285017\n",
       "1   -134.741464   3.842758  -153.417605  -87.385153\n",
       "2   -136.448477  68.356210 -1650.651100  -96.820000\n",
       "3   -129.571121   7.364260  -151.807608  -85.006197\n",
       "4   -123.531822   9.743026  -143.525758  -37.981881\n",
       "..          ...        ...          ...         ...\n",
       "995    3.968053  53.190129 -1111.727934    8.408709\n",
       "996    7.004592  10.040744  -203.445819    8.408709\n",
       "997    6.974136   5.544768   -66.513022    8.408709\n",
       "998    6.955425   4.358910   -22.174026    8.408709\n",
       "999    5.988334  19.180254  -341.636736    8.408709\n",
       "\n",
       "[1000 rows x 4 columns]"
      ]
     },
     "execution_count": 7,
     "metadata": {},
     "output_type": "execute_result"
    }
   ],
   "source": [
    "pd.DataFrame(record_2)"
   ]
  },
  {
   "cell_type": "code",
   "execution_count": 8,
   "metadata": {},
   "outputs": [
    {
     "name": "stdout",
     "output_type": "stream",
     "text": [
      "[2.835303339814425, 2.9325043739040613]\n"
     ]
    },
    {
     "data": {
      "text/plain": [
       "(8.40870898535364,)"
      ]
     },
     "execution_count": 8,
     "metadata": {},
     "output_type": "execute_result"
    }
   ],
   "source": [
    "#Sol. exata: \n",
    "#x = 20/7 ~ 2.8571\n",
    "#y = 3\n",
    "#f = 59/7 ~ 8.4285\n",
    "\n",
    "print(tools.selBest(pop, k=1)[0])\n",
    "\n",
    "eval_f(tools.selBest(pop, k=1)[0])"
   ]
  },
  {
   "cell_type": "markdown",
   "metadata": {},
   "source": [
    "### Exemplo (3) - O problema do caixeiro viajante."
   ]
  },
  {
   "cell_type": "markdown",
   "metadata": {},
   "source": [
    "O problema consiste em um conjunto de $n$ cidades e as distâncias $d$ entre elas. O objetivo é encontrar uma rota começando da cidade \"0\" que passe por todas as outras uma única vez e volte pra cidade original com a menor distância percorrida possível. \n",
    "\n",
    "A importância do problema do caixeiro viajante vem de que outros problemas podem ser colocados nesses termos, como escolher a melhor rota pra entrega de produtos de uma transportadora em uma cidade."
   ]
  },
  {
   "cell_type": "markdown",
   "metadata": {},
   "source": [
    "Um exemplo simétrico com 4 cidades (tirado da Wikipedia, https://en.wikipedia.org/wiki/Travelling_salesman_problem):\n",
    "\n",
    "![](https://upload.wikimedia.org/wikipedia/commons/3/30/Weighted_K4.svg)"
   ]
  },
  {
   "cell_type": "markdown",
   "metadata": {},
   "source": [
    "O número de combinações possíveis de serem exploradas é $O((n-1)!)$, o que torna o problema intratável de ser resolvido exatamente por força bruta.\n",
    "\n",
    "No link (https://github.com/lmarti/evolutionary-computation-course/blob/master/AEC.03%20-%20Solving%20the%20TSP%20with%20GAs.ipynb) tem uma discussão legal sobre o problema, de onde também tirei alguns trechos de código pra usar abaixo."
   ]
  },
  {
   "cell_type": "markdown",
   "metadata": {},
   "source": [
    "Vamos ver primeiro a solução força-bruta em um caso simples e depois a solução heurística usando um algoritmo genético. Aqui vamos considerar o problema assimétrico, onde as distâncias $d_{ij}$ não precisam ser iguais a $d_{ji}$."
   ]
  },
  {
   "cell_type": "code",
   "execution_count": 9,
   "metadata": {},
   "outputs": [],
   "source": [
    "n=300\n",
    "np.random.seed(0)"
   ]
  },
  {
   "cell_type": "code",
   "execution_count": 10,
   "metadata": {},
   "outputs": [
    {
     "data": {
      "text/plain": [
       "array([[ 0, 16,  1, ..., 19,  3, 12],\n",
       "       [19,  0,  2, ..., 19,  9, 19],\n",
       "       [ 8, 11,  0, ..., 11, 10, 17],\n",
       "       ...,\n",
       "       [ 9,  2,  4, ...,  0, 11, 11],\n",
       "       [ 1, 19, 11, ...,  5,  0, 12],\n",
       "       [15,  7, 12, ..., 16,  1,  0]])"
      ]
     },
     "execution_count": 10,
     "metadata": {},
     "output_type": "execute_result"
    }
   ],
   "source": [
    "#Gerando a matriz de distâncias\n",
    "\n",
    "d_matrix=np.random.randint(1,20,size=(n,n))\n",
    "\n",
    "for i in range(n):\n",
    "    d_matrix[i,i]=0\n",
    "    \n",
    "d_matrix"
   ]
  },
  {
   "cell_type": "markdown",
   "metadata": {},
   "source": [
    "### Cuidado!\n",
    "Tentar rodar isso aqui com $n$ muito elevado causa um crash pois o número de permutações é enorme."
   ]
  },
  {
   "cell_type": "code",
   "execution_count": 11,
   "metadata": {},
   "outputs": [],
   "source": [
    "# valid=[]\n",
    "# for perm in [*permutations([*range(n)]+[0],n+1)]:\n",
    "#     if perm[0]==0 and perm[-1]==0:\n",
    "#         valid.append(perm)    \n",
    "\n",
    "# valid=list(set(valid)) #Um exemplo\n",
    "# valid[0]"
   ]
  },
  {
   "cell_type": "code",
   "execution_count": 12,
   "metadata": {},
   "outputs": [],
   "source": [
    "# total_d=dict()\n",
    "\n",
    "# for road in valid:\n",
    "#     total_d[road]=sum([d_matrix[road[i],road[i+1]] for i in range(0,n)])\n",
    "    \n",
    "# total_d"
   ]
  },
  {
   "cell_type": "code",
   "execution_count": 13,
   "metadata": {},
   "outputs": [],
   "source": [
    "# #Vendo a melhor rota\n",
    "\n",
    "# min_d = np.inf\n",
    "# best_route = 0\n",
    "\n",
    "# for key, value in total_d.items():\n",
    "#     if value < min_d:\n",
    "#         min_d, best_route = value, key\n",
    "        \n",
    "# print(best_route)\n",
    "# print(min_d)"
   ]
  },
  {
   "cell_type": "markdown",
   "metadata": {},
   "source": [
    "Agora vamos usar um algoritmo genético de maneira similar ao que fizemos antes. (Ainda não tá funcionando)"
   ]
  },
  {
   "cell_type": "code",
   "execution_count": 14,
   "metadata": {},
   "outputs": [
    {
     "name": "stderr",
     "output_type": "stream",
     "text": [
      "/home/gabriel/anaconda3/lib/python3.8/site-packages/deap/creator.py:138: RuntimeWarning: A class named 'FitnessMin' has already been created and it will be overwritten. Consider deleting previous creation of that class or rename it.\n",
      "  warnings.warn(\"A class named '{0}' has already been created and it \"\n",
      "/home/gabriel/anaconda3/lib/python3.8/site-packages/deap/creator.py:138: RuntimeWarning: A class named 'Individual' has already been created and it will be overwritten. Consider deleting previous creation of that class or rename it.\n",
      "  warnings.warn(\"A class named '{0}' has already been created and it \"\n"
     ]
    }
   ],
   "source": [
    "def create_route(n):\n",
    "    route = random.sample([*range(0,n-1)],n-1)\n",
    "    return route.copy()\n",
    "\n",
    "creator.create(\"FitnessMin\", base.Fitness, weights=(-1.0,)) \n",
    "creator.create(\"Individual\", list, fitness=creator.FitnessMin)\n",
    "\n",
    "toolbox = base.Toolbox()\n",
    "toolbox.register(\"route\", create_route, n)\n",
    "toolbox.register(\"individual\",  tools.initIterate, creator.Individual, toolbox.route) #Gera um número\n",
    "toolbox.register(\"population\", tools.initRepeat, list, toolbox.individual) #Gera a população \n",
    "\n",
    "def eval_f(individual): \n",
    "    road=[i+1 for i in individual]    \n",
    "    fitness=(d_matrix[0,road[0]])+sum([d_matrix[road[i],road[i+1]] for i in range(0,n-2)])+d_matrix[road[-1],0]\n",
    "    return(fitness,)\n",
    "\n",
    "toolbox.register(\"evaluate\", eval_f) #Calcula o fitness\n",
    "toolbox.register(\"mate\", tools.cxOrdered)\n",
    "toolbox.register(\"mutate\", tools.mutShuffleIndexes, indpb=0.05)\n",
    "toolbox.register(\"select\", tools.selTournament, tournsize=3)\n",
    "\n",
    "stats = tools.Statistics(key=lambda ind: ind.fitness.values)\n",
    "stats.register(\"avg\", np.mean)\n",
    "stats.register(\"std\", np.std)\n",
    "stats.register(\"min\", np.min)\n",
    "stats.register(\"max\", np.max)\n",
    "\n",
    "\n",
    "CXPB, MUTPB = 0.6, 0.1 #Taxas de cruzamento e mutação\n",
    "N_GEN = 1000\n",
    "SIZE = 10\n",
    "\n",
    "pop = toolbox.population(SIZE)\n",
    "result, record_3 = algorithms.eaSimple(pop, toolbox,\n",
    "                             cxpb=CXPB, mutpb=MUTPB,\n",
    "                             ngen=N_GEN, verbose=False,stats=stats)"
   ]
  },
  {
   "cell_type": "code",
   "execution_count": 15,
   "metadata": {},
   "outputs": [
    {
     "name": "stdout",
     "output_type": "stream",
     "text": [
      "[0, 27, 249, 216, 102, 250, 163, 25, 272, 111, 218, 84, 145, 128, 290, 51, 13, 146, 201, 31, 294, 219, 89, 243, 48, 139, 99, 149, 2, 260, 148, 37, 190, 285, 124, 183, 232, 59, 237, 299, 39, 266, 228, 120, 1, 81, 282, 203, 207, 79, 72, 121, 155, 82, 264, 298, 185, 53, 38, 29, 217, 77, 168, 189, 241, 174, 129, 288, 55, 164, 34, 93, 270, 204, 194, 215, 206, 224, 104, 73, 68, 95, 134, 188, 222, 244, 49, 267, 44, 234, 83, 177, 109, 15, 172, 57, 74, 131, 275, 240, 229, 76, 287, 80, 65, 198, 96, 225, 257, 157, 280, 277, 133, 265, 179, 208, 271, 199, 205, 256, 161, 52, 97, 98, 295, 105, 170, 263, 78, 184, 223, 195, 60, 132, 245, 202, 167, 45, 12, 226, 115, 123, 173, 64, 140, 11, 220, 262, 153, 182, 292, 43, 239, 85, 259, 209, 186, 178, 63, 24, 126, 175, 92, 258, 114, 197, 156, 211, 235, 284, 166, 41, 227, 108, 100, 151, 169, 69, 127, 180, 187, 117, 36, 236, 75, 7, 181, 54, 233, 269, 35, 200, 122, 88, 143, 253, 101, 26, 86, 147, 246, 5, 261, 42, 192, 268, 110, 61, 56, 152, 70, 150, 210, 176, 154, 196, 281, 214, 283, 118, 8, 165, 10, 276, 247, 248, 160, 191, 296, 289, 91, 213, 286, 138, 251, 135, 274, 297, 28, 21, 293, 278, 221, 62, 254, 40, 144, 33, 46, 212, 106, 67, 20, 58, 103, 30, 193, 47, 291, 119, 137, 231, 16, 32, 142, 279, 107, 125, 112, 22, 66, 90, 17, 4, 50, 158, 18, 252, 71, 23, 130, 3, 255, 87, 171, 116, 14, 162, 238, 141, 136, 6, 159, 230, 9, 273, 94, 113, 19, 242, 0]\n"
     ]
    },
    {
     "data": {
      "text/plain": [
       "(2085,)"
      ]
     },
     "execution_count": 15,
     "metadata": {},
     "output_type": "execute_result"
    }
   ],
   "source": [
    "print([0]+[i+1 for i in tools.selBest(pop, k=1)[0]]+[0])\n",
    "\n",
    "eval_f(tools.selBest(pop, k=1)[0])"
   ]
  },
  {
   "cell_type": "code",
   "execution_count": 16,
   "metadata": {},
   "outputs": [
    {
     "data": {
      "image/png": "[encoded data removed]",
      "text/plain": [
       "<Figure size 720x360 with 2 Axes>"
      ]
     },
     "metadata": {
      "needs_background": "light"
     },
     "output_type": "display_data"
    }
   ],
   "source": [
    "fig, ax = plt.subplots(1,2,figsize=(10,5))\n",
    "pd.DataFrame(record_3).plot(x='gen',y=['min'],ax=ax[0])\n",
    "ax[0].set_ylim(bottom=0)\n",
    "pd.DataFrame(record_3).plot(x='gen',y=['max'],ax=ax[1])\n",
    "ax[1].set_ylim(bottom=0)\n",
    "plt.show()"
   ]
  },
  {
   "cell_type": "code",
   "execution_count": null,
   "metadata": {},
   "outputs": [],
   "source": []
  }
 ],
 "metadata": {
  "kernelspec": {
   "display_name": "Python 3",
   "language": "python",
   "name": "python3"
  },
  "language_info": {
   "codemirror_mode": {
    "name": "ipython",
    "version": 3
   },
   "file_extension": ".py",
   "mimetype": "text/x-python",
   "name": "python",
   "nbconvert_exporter": "python",
   "pygments_lexer": "ipython3",
   "version": "3.8.3"
  }
 },
 "nbformat": 4,
 "nbformat_minor": 4
}
